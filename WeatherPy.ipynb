{
 "cells": [
  {
   "cell_type": "code",
   "execution_count": 22,
   "metadata": {},
   "outputs": [],
   "source": [
    "# Dependencies and Setup\n",
    "import matplotlib.pyplot as plt\n",
    "import pandas as pd\n",
    "import numpy as np\n",
    "import requests\n",
    "import time\n",
    "from scipy.stats import linregress\n",
    "\n",
    "# Import API key\n",
    "from api_keys import weather_api_key\n",
    "\n",
    "# Incorporated citipy to determine city based on latitude and longitude\n",
    "from citipy import citipy\n",
    "\n",
    "# Output File (CSV)\n",
    "output_data_file = \".../cities.csv\"\n",
    "\n",
    "# Range of latitudes and longitudes\n",
    "lat_range = (-90, 90)\n",
    "lng_range = (-180, 180)"
   ]
  },
  {
   "cell_type": "code",
   "execution_count": 23,
   "metadata": {},
   "outputs": [],
   "source": [
    "from pprint import pprint"
   ]
  },
  {
   "cell_type": "code",
   "execution_count": 24,
   "metadata": {},
   "outputs": [
    {
     "data": {
      "text/plain": [
       "615"
      ]
     },
     "execution_count": 24,
     "metadata": {},
     "output_type": "execute_result"
    }
   ],
   "source": [
    "# List for holding lat_lngs and cities\n",
    "lat_lngs = []\n",
    "cities = []\n",
    "\n",
    "# Create a set of random lat and lng combinations\n",
    "lats = np.random.uniform(lat_range[0], lat_range[1], size=1500)\n",
    "lngs = np.random.uniform(lng_range[0], lng_range[1], size=1500)\n",
    "lat_lngs = zip(lats, lngs)\n",
    "\n",
    "# Identify nearest city for each lat, lng combination\n",
    "for lat_lng in lat_lngs:\n",
    "    city = citipy.nearest_city(lat_lng[0], lat_lng[1]).city_name\n",
    "    \n",
    "    # If the city is unique, then add it to a our cities list\n",
    "    if city not in cities:\n",
    "        cities.append(city)\n",
    "\n",
    "# Print the city count to confirm sufficient count\n",
    "len(cities)"
   ]
  },
  {
   "cell_type": "code",
   "execution_count": 25,
   "metadata": {},
   "outputs": [
    {
     "data": {
      "text/plain": [
       "'sept-iles'"
      ]
     },
     "execution_count": 25,
     "metadata": {},
     "output_type": "execute_result"
    }
   ],
   "source": [
    "firstCity = cities[0]\n",
    "firstCity"
   ]
  },
  {
   "cell_type": "code",
   "execution_count": 26,
   "metadata": {},
   "outputs": [
    {
     "data": {
      "text/plain": [
       "'http://api.openweathermap.org/data/2.5/weather?q=sept-iles&appid=2ee2e9d3998613d3976081d28563ecc6&units=imperial'"
      ]
     },
     "execution_count": 26,
     "metadata": {},
     "output_type": "execute_result"
    }
   ],
   "source": [
    " # Build query URL\n",
    "units = \"imperial\"\n",
    "url = f\"http://api.openweathermap.org/data/2.5/weather?q={firstCity}&appid={weather_api_key}&units={units}\"\n",
    "\n",
    "url"
   ]
  },
  {
   "cell_type": "code",
   "execution_count": 27,
   "metadata": {},
   "outputs": [
    {
     "name": "stdout",
     "output_type": "stream",
     "text": [
      "{'base': 'stations',\n",
      " 'clouds': {'all': 20},\n",
      " 'cod': 200,\n",
      " 'coord': {'lat': 50.2, 'lon': -66.38},\n",
      " 'dt': 1595126796,\n",
      " 'id': 6144312,\n",
      " 'main': {'feels_like': 65.5,\n",
      "          'humidity': 93,\n",
      "          'pressure': 1011,\n",
      "          'temp': 63.09,\n",
      "          'temp_max': 64,\n",
      "          'temp_min': 60.8},\n",
      " 'name': 'Sept-Îles',\n",
      " 'sys': {'country': 'CA',\n",
      "         'id': 1013,\n",
      "         'sunrise': 1595061367,\n",
      "         'sunset': 1595118423,\n",
      "         'type': 1},\n",
      " 'timezone': -14400,\n",
      " 'visibility': 10000,\n",
      " 'weather': [{'description': 'few clouds',\n",
      "              'icon': '02n',\n",
      "              'id': 801,\n",
      "              'main': 'Clouds'}],\n",
      " 'wind': {'deg': 50, 'speed': 2.24}}\n"
     ]
    }
   ],
   "source": [
    " response = requests.get(url).json()\n",
    "pprint(response)"
   ]
  },
  {
   "cell_type": "code",
   "execution_count": 28,
   "metadata": {},
   "outputs": [
    {
     "data": {
      "text/plain": [
       "20"
      ]
     },
     "execution_count": 28,
     "metadata": {},
     "output_type": "execute_result"
    }
   ],
   "source": [
    "response[\"clouds\"][\"all\"]"
   ]
  },
  {
   "cell_type": "code",
   "execution_count": 29,
   "metadata": {},
   "outputs": [],
   "source": [
    " lats = []\n",
    "longs = []\n",
    "temps = []\n",
    "humids = []\n",
    "pressures = []\n",
    "winds = []\n",
    "clouds = []\n",
    "\n",
    "citiesFound = []\n",
    "counter = 0"
   ]
  },
  {
   "cell_type": "code",
   "execution_count": 30,
   "metadata": {},
   "outputs": [
    {
     "name": "stdout",
     "output_type": "stream",
     "text": [
      "0\n",
      "50\n",
      "100\n",
      "150\n",
      "200\n",
      "250\n",
      "300\n",
      "350\n",
      "400\n",
      "450\n",
      "500\n",
      "550\n",
      "600\n"
     ]
    }
   ],
   "source": [
    "for city in cities:\n",
    "    url = f\"http://api.openweathermap.org/data/2.5/weather?q={city}&appid={weather_api_key}&units={units}\"\n",
    "    \n",
    "    try:\n",
    "        response = requests.get(url).json()\n",
    "    \n",
    "        code = response[\"cod\"]\n",
    "\n",
    "        if code == 200:  \n",
    "            citiesFound.append(city)\n",
    "            lats.append(response[\"coord\"][\"lat\"])\n",
    "            longs.append(response[\"coord\"][\"lon\"])\n",
    "            temps.append(response[\"main\"][\"temp\"])\n",
    "            humids.append(response[\"main\"][\"humidity\"])\n",
    "            pressures.append(response[\"main\"][\"pressure\"])\n",
    "\n",
    "            winds.append(response[\"wind\"][\"speed\"])\n",
    "            clouds.append(response[\"clouds\"][\"all\"])\n",
    "\n",
    "        if counter % 50 == 0:\n",
    "            print(counter)\n",
    "    \n",
    "    except Exception as e:\n",
    "        print(e)\n",
    "    \n",
    "    counter += 1\n",
    "    time.sleep(1)"
   ]
  },
  {
   "cell_type": "code",
   "execution_count": 31,
   "metadata": {},
   "outputs": [
    {
     "data": {
      "text/plain": [
       "615"
      ]
     },
     "execution_count": 31,
     "metadata": {},
     "output_type": "execute_result"
    }
   ],
   "source": [
    "counter"
   ]
  },
  {
   "cell_type": "code",
   "execution_count": 32,
   "metadata": {},
   "outputs": [
    {
     "data": {
      "text/html": [
       "<div>\n",
       "<style scoped>\n",
       "    .dataframe tbody tr th:only-of-type {\n",
       "        vertical-align: middle;\n",
       "    }\n",
       "\n",
       "    .dataframe tbody tr th {\n",
       "        vertical-align: top;\n",
       "    }\n",
       "\n",
       "    .dataframe thead th {\n",
       "        text-align: right;\n",
       "    }\n",
       "</style>\n",
       "<table border=\"1\" class=\"dataframe\">\n",
       "  <thead>\n",
       "    <tr style=\"text-align: right;\">\n",
       "      <th></th>\n",
       "      <th>cities</th>\n",
       "      <th>latitude</th>\n",
       "      <th>longitude</th>\n",
       "      <th>temperature</th>\n",
       "      <th>humidity</th>\n",
       "      <th>pressure</th>\n",
       "      <th>wind_speed</th>\n",
       "      <th>cloudiness</th>\n",
       "    </tr>\n",
       "  </thead>\n",
       "  <tbody>\n",
       "    <tr>\n",
       "      <td>0</td>\n",
       "      <td>sept-iles</td>\n",
       "      <td>50.20</td>\n",
       "      <td>-66.38</td>\n",
       "      <td>63.09</td>\n",
       "      <td>93</td>\n",
       "      <td>1011</td>\n",
       "      <td>2.24</td>\n",
       "      <td>20</td>\n",
       "    </tr>\n",
       "    <tr>\n",
       "      <td>1</td>\n",
       "      <td>busselton</td>\n",
       "      <td>-33.65</td>\n",
       "      <td>115.33</td>\n",
       "      <td>55.27</td>\n",
       "      <td>87</td>\n",
       "      <td>1028</td>\n",
       "      <td>2.35</td>\n",
       "      <td>100</td>\n",
       "    </tr>\n",
       "    <tr>\n",
       "      <td>2</td>\n",
       "      <td>avarua</td>\n",
       "      <td>-21.21</td>\n",
       "      <td>-159.78</td>\n",
       "      <td>73.40</td>\n",
       "      <td>78</td>\n",
       "      <td>1015</td>\n",
       "      <td>14.99</td>\n",
       "      <td>79</td>\n",
       "    </tr>\n",
       "    <tr>\n",
       "      <td>3</td>\n",
       "      <td>tezu</td>\n",
       "      <td>27.92</td>\n",
       "      <td>96.17</td>\n",
       "      <td>76.14</td>\n",
       "      <td>87</td>\n",
       "      <td>1008</td>\n",
       "      <td>2.30</td>\n",
       "      <td>100</td>\n",
       "    </tr>\n",
       "    <tr>\n",
       "      <td>4</td>\n",
       "      <td>poum</td>\n",
       "      <td>-20.23</td>\n",
       "      <td>164.02</td>\n",
       "      <td>71.56</td>\n",
       "      <td>63</td>\n",
       "      <td>1012</td>\n",
       "      <td>13.96</td>\n",
       "      <td>3</td>\n",
       "    </tr>\n",
       "  </tbody>\n",
       "</table>\n",
       "</div>"
      ],
      "text/plain": [
       "      cities  latitude  longitude  temperature  humidity  pressure  \\\n",
       "0  sept-iles     50.20     -66.38        63.09        93      1011   \n",
       "1  busselton    -33.65     115.33        55.27        87      1028   \n",
       "2     avarua    -21.21    -159.78        73.40        78      1015   \n",
       "3       tezu     27.92      96.17        76.14        87      1008   \n",
       "4       poum    -20.23     164.02        71.56        63      1012   \n",
       "\n",
       "   wind_speed  cloudiness  \n",
       "0        2.24          20  \n",
       "1        2.35         100  \n",
       "2       14.99          79  \n",
       "3        2.30         100  \n",
       "4       13.96           3  "
      ]
     },
     "execution_count": 32,
     "metadata": {},
     "output_type": "execute_result"
    }
   ],
   "source": [
    " df = pd.DataFrame()\n",
    "df[\"cities\"] = citiesFound\n",
    "df[\"latitude\"] = lats\n",
    "df[\"longitude\"] = longs\n",
    "df[\"temperature\"] = temps\n",
    "df[\"humidity\"] = humids\n",
    "df[\"pressure\"] = pressures\n",
    "df[\"wind_speed\"] = winds\n",
    "df[\"cloudiness\"] = clouds\n",
    "\n",
    "df.head()"
   ]
  },
  {
   "cell_type": "code",
   "execution_count": 33,
   "metadata": {},
   "outputs": [
    {
     "data": {
      "text/plain": [
       "555"
      ]
     },
     "execution_count": 33,
     "metadata": {},
     "output_type": "execute_result"
    }
   ],
   "source": [
    "len(df)"
   ]
  },
  {
   "cell_type": "code",
   "execution_count": 34,
   "metadata": {},
   "outputs": [
    {
     "data": {
      "text/html": [
       "<div>\n",
       "<style scoped>\n",
       "    .dataframe tbody tr th:only-of-type {\n",
       "        vertical-align: middle;\n",
       "    }\n",
       "\n",
       "    .dataframe tbody tr th {\n",
       "        vertical-align: top;\n",
       "    }\n",
       "\n",
       "    .dataframe thead th {\n",
       "        text-align: right;\n",
       "    }\n",
       "</style>\n",
       "<table border=\"1\" class=\"dataframe\">\n",
       "  <thead>\n",
       "    <tr style=\"text-align: right;\">\n",
       "      <th></th>\n",
       "      <th>cities</th>\n",
       "      <th>latitude</th>\n",
       "      <th>longitude</th>\n",
       "      <th>temperature</th>\n",
       "      <th>humidity</th>\n",
       "      <th>pressure</th>\n",
       "      <th>wind_speed</th>\n",
       "      <th>cloudiness</th>\n",
       "    </tr>\n",
       "  </thead>\n",
       "  <tbody>\n",
       "    <tr>\n",
       "      <td>0</td>\n",
       "      <td>sept-iles</td>\n",
       "      <td>50.20</td>\n",
       "      <td>-66.38</td>\n",
       "      <td>63.09</td>\n",
       "      <td>93</td>\n",
       "      <td>1011</td>\n",
       "      <td>2.24</td>\n",
       "      <td>20</td>\n",
       "    </tr>\n",
       "    <tr>\n",
       "      <td>1</td>\n",
       "      <td>busselton</td>\n",
       "      <td>-33.65</td>\n",
       "      <td>115.33</td>\n",
       "      <td>55.27</td>\n",
       "      <td>87</td>\n",
       "      <td>1028</td>\n",
       "      <td>2.35</td>\n",
       "      <td>100</td>\n",
       "    </tr>\n",
       "    <tr>\n",
       "      <td>2</td>\n",
       "      <td>avarua</td>\n",
       "      <td>-21.21</td>\n",
       "      <td>-159.78</td>\n",
       "      <td>73.40</td>\n",
       "      <td>78</td>\n",
       "      <td>1015</td>\n",
       "      <td>14.99</td>\n",
       "      <td>79</td>\n",
       "    </tr>\n",
       "    <tr>\n",
       "      <td>3</td>\n",
       "      <td>tezu</td>\n",
       "      <td>27.92</td>\n",
       "      <td>96.17</td>\n",
       "      <td>76.14</td>\n",
       "      <td>87</td>\n",
       "      <td>1008</td>\n",
       "      <td>2.30</td>\n",
       "      <td>100</td>\n",
       "    </tr>\n",
       "    <tr>\n",
       "      <td>4</td>\n",
       "      <td>poum</td>\n",
       "      <td>-20.23</td>\n",
       "      <td>164.02</td>\n",
       "      <td>71.56</td>\n",
       "      <td>63</td>\n",
       "      <td>1012</td>\n",
       "      <td>13.96</td>\n",
       "      <td>3</td>\n",
       "    </tr>\n",
       "  </tbody>\n",
       "</table>\n",
       "</div>"
      ],
      "text/plain": [
       "      cities  latitude  longitude  temperature  humidity  pressure  \\\n",
       "0  sept-iles     50.20     -66.38        63.09        93      1011   \n",
       "1  busselton    -33.65     115.33        55.27        87      1028   \n",
       "2     avarua    -21.21    -159.78        73.40        78      1015   \n",
       "3       tezu     27.92      96.17        76.14        87      1008   \n",
       "4       poum    -20.23     164.02        71.56        63      1012   \n",
       "\n",
       "   wind_speed  cloudiness  \n",
       "0        2.24          20  \n",
       "1        2.35         100  \n",
       "2       14.99          79  \n",
       "3        2.30         100  \n",
       "4       13.96           3  "
      ]
     },
     "execution_count": 34,
     "metadata": {},
     "output_type": "execute_result"
    }
   ],
   "source": [
    "mask = df.humidity <= 100\n",
    "df_sub = df.loc[mask].reset_index(drop=True)\n",
    "\n",
    "df_sub.head()"
   ]
  },
  {
   "cell_type": "code",
   "execution_count": 35,
   "metadata": {},
   "outputs": [],
   "source": [
    "df_sub.to_csv(\"weatherData.csv\", index=False)"
   ]
  },
  {
   "cell_type": "code",
   "execution_count": 36,
   "metadata": {},
   "outputs": [
    {
     "data": {
      "text/html": [
       "<div>\n",
       "<style scoped>\n",
       "    .dataframe tbody tr th:only-of-type {\n",
       "        vertical-align: middle;\n",
       "    }\n",
       "\n",
       "    .dataframe tbody tr th {\n",
       "        vertical-align: top;\n",
       "    }\n",
       "\n",
       "    .dataframe thead th {\n",
       "        text-align: right;\n",
       "    }\n",
       "</style>\n",
       "<table border=\"1\" class=\"dataframe\">\n",
       "  <thead>\n",
       "    <tr style=\"text-align: right;\">\n",
       "      <th></th>\n",
       "      <th>cities</th>\n",
       "      <th>latitude</th>\n",
       "      <th>longitude</th>\n",
       "      <th>temperature</th>\n",
       "      <th>humidity</th>\n",
       "      <th>pressure</th>\n",
       "      <th>wind_speed</th>\n",
       "      <th>cloudiness</th>\n",
       "    </tr>\n",
       "  </thead>\n",
       "  <tbody>\n",
       "    <tr>\n",
       "      <td>0</td>\n",
       "      <td>sept-iles</td>\n",
       "      <td>50.20</td>\n",
       "      <td>-66.38</td>\n",
       "      <td>63.09</td>\n",
       "      <td>93</td>\n",
       "      <td>1011</td>\n",
       "      <td>2.24</td>\n",
       "      <td>20</td>\n",
       "    </tr>\n",
       "    <tr>\n",
       "      <td>1</td>\n",
       "      <td>busselton</td>\n",
       "      <td>-33.65</td>\n",
       "      <td>115.33</td>\n",
       "      <td>55.27</td>\n",
       "      <td>87</td>\n",
       "      <td>1028</td>\n",
       "      <td>2.35</td>\n",
       "      <td>100</td>\n",
       "    </tr>\n",
       "    <tr>\n",
       "      <td>2</td>\n",
       "      <td>avarua</td>\n",
       "      <td>-21.21</td>\n",
       "      <td>-159.78</td>\n",
       "      <td>73.40</td>\n",
       "      <td>78</td>\n",
       "      <td>1015</td>\n",
       "      <td>14.99</td>\n",
       "      <td>79</td>\n",
       "    </tr>\n",
       "    <tr>\n",
       "      <td>3</td>\n",
       "      <td>tezu</td>\n",
       "      <td>27.92</td>\n",
       "      <td>96.17</td>\n",
       "      <td>76.14</td>\n",
       "      <td>87</td>\n",
       "      <td>1008</td>\n",
       "      <td>2.30</td>\n",
       "      <td>100</td>\n",
       "    </tr>\n",
       "    <tr>\n",
       "      <td>4</td>\n",
       "      <td>poum</td>\n",
       "      <td>-20.23</td>\n",
       "      <td>164.02</td>\n",
       "      <td>71.56</td>\n",
       "      <td>63</td>\n",
       "      <td>1012</td>\n",
       "      <td>13.96</td>\n",
       "      <td>3</td>\n",
       "    </tr>\n",
       "  </tbody>\n",
       "</table>\n",
       "</div>"
      ],
      "text/plain": [
       "      cities  latitude  longitude  temperature  humidity  pressure  \\\n",
       "0  sept-iles     50.20     -66.38        63.09        93      1011   \n",
       "1  busselton    -33.65     115.33        55.27        87      1028   \n",
       "2     avarua    -21.21    -159.78        73.40        78      1015   \n",
       "3       tezu     27.92      96.17        76.14        87      1008   \n",
       "4       poum    -20.23     164.02        71.56        63      1012   \n",
       "\n",
       "   wind_speed  cloudiness  \n",
       "0        2.24          20  \n",
       "1        2.35         100  \n",
       "2       14.99          79  \n",
       "3        2.30         100  \n",
       "4       13.96           3  "
      ]
     },
     "execution_count": 36,
     "metadata": {},
     "output_type": "execute_result"
    }
   ],
   "source": [
    " df = pd.read_csv(\"weatherData.csv\")\n",
    "\n",
    "df.head()"
   ]
  },
  {
   "cell_type": "code",
   "execution_count": 37,
   "metadata": {},
   "outputs": [
    {
     "data": {
      "image/png": "[encoded data removed]",
      "text/plain": [
       "<Figure size 432x288 with 1 Axes>"
      ]
     },
     "metadata": {
      "needs_background": "light"
     },
     "output_type": "display_data"
    }
   ],
   "source": [
    " plt.scatter(df.latitude, df.temperature, color=\"green\")\n",
    "plt.xlabel(\"Latitude\")\n",
    "plt.ylabel(\"Temperature\")\n",
    "plt.title(\"Latitude vs Temperature\", fontsize=16, fontweight=\"bold\")\n",
    "plt.show()"
   ]
  },
  {
   "cell_type": "code",
   "execution_count": 38,
   "metadata": {},
   "outputs": [
    {
     "data": {
      "image/png": "[encoded data removed]",
      "text/plain": [
       "<Figure size 432x288 with 1 Axes>"
      ]
     },
     "metadata": {
      "needs_background": "light"
     },
     "output_type": "display_data"
    }
   ],
   "source": [
    "plt.scatter(df.latitude, df.humidity, color=\"green\")\n",
    "plt.xlabel(\"Latitude\")\n",
    "plt.ylabel(\"Humidity\")\n",
    "plt.title(\"Latitude vs Humidity\", fontsize=16, fontweight=\"bold\")\n",
    "plt.show()"
   ]
  },
  {
   "cell_type": "code",
   "execution_count": 39,
   "metadata": {},
   "outputs": [
    {
     "data": {
      "image/png": "[encoded data removed]",
      "text/plain": [
       "<Figure size 432x288 with 1 Axes>"
      ]
     },
     "metadata": {
      "needs_background": "light"
     },
     "output_type": "display_data"
    }
   ],
   "source": [
    "plt.scatter(df.latitude, df.cloudiness, color=\"green\")\n",
    "plt.xlabel(\"Latitude\")\n",
    "plt.ylabel(\"Cloudiness\")\n",
    "plt.title(\"Latitude vs Cloudiness\", fontsize=16, fontweight=\"bold\")\n",
    "plt.show()"
   ]
  },
  {
   "cell_type": "code",
   "execution_count": 40,
   "metadata": {},
   "outputs": [
    {
     "data": {
      "image/png": "[encoded data removed]",
      "text/plain": [
       "<Figure size 432x288 with 1 Axes>"
      ]
     },
     "metadata": {
      "needs_background": "light"
     },
     "output_type": "display_data"
    }
   ],
   "source": [
    "plt.scatter(df.latitude, df.wind_speed, color=\"green\")\n",
    "plt.xlabel(\"Latitude\")\n",
    "plt.ylabel(\"Wind Speed\")\n",
    "plt.title(\"Latitude vs Wind Speed\", fontsize=16, fontweight=\"bold\")\n",
    "plt.show()"
   ]
  },
  {
   "cell_type": "code",
   "execution_count": 41,
   "metadata": {},
   "outputs": [
    {
     "data": {
      "text/html": [
       "<div>\n",
       "<style scoped>\n",
       "    .dataframe tbody tr th:only-of-type {\n",
       "        vertical-align: middle;\n",
       "    }\n",
       "\n",
       "    .dataframe tbody tr th {\n",
       "        vertical-align: top;\n",
       "    }\n",
       "\n",
       "    .dataframe thead th {\n",
       "        text-align: right;\n",
       "    }\n",
       "</style>\n",
       "<table border=\"1\" class=\"dataframe\">\n",
       "  <thead>\n",
       "    <tr style=\"text-align: right;\">\n",
       "      <th></th>\n",
       "      <th>cities</th>\n",
       "      <th>latitude</th>\n",
       "      <th>longitude</th>\n",
       "      <th>temperature</th>\n",
       "      <th>humidity</th>\n",
       "      <th>pressure</th>\n",
       "      <th>wind_speed</th>\n",
       "      <th>cloudiness</th>\n",
       "    </tr>\n",
       "  </thead>\n",
       "  <tbody>\n",
       "    <tr>\n",
       "      <td>0</td>\n",
       "      <td>sept-iles</td>\n",
       "      <td>50.20</td>\n",
       "      <td>-66.38</td>\n",
       "      <td>63.09</td>\n",
       "      <td>93</td>\n",
       "      <td>1011</td>\n",
       "      <td>2.24</td>\n",
       "      <td>20</td>\n",
       "    </tr>\n",
       "    <tr>\n",
       "      <td>1</td>\n",
       "      <td>tezu</td>\n",
       "      <td>27.92</td>\n",
       "      <td>96.17</td>\n",
       "      <td>76.14</td>\n",
       "      <td>87</td>\n",
       "      <td>1008</td>\n",
       "      <td>2.30</td>\n",
       "      <td>100</td>\n",
       "    </tr>\n",
       "    <tr>\n",
       "      <td>2</td>\n",
       "      <td>yellowknife</td>\n",
       "      <td>62.46</td>\n",
       "      <td>-114.35</td>\n",
       "      <td>72.00</td>\n",
       "      <td>43</td>\n",
       "      <td>1010</td>\n",
       "      <td>10.29</td>\n",
       "      <td>40</td>\n",
       "    </tr>\n",
       "    <tr>\n",
       "      <td>3</td>\n",
       "      <td>narsaq</td>\n",
       "      <td>60.92</td>\n",
       "      <td>-46.05</td>\n",
       "      <td>50.00</td>\n",
       "      <td>61</td>\n",
       "      <td>1016</td>\n",
       "      <td>5.82</td>\n",
       "      <td>74</td>\n",
       "    </tr>\n",
       "    <tr>\n",
       "      <td>4</td>\n",
       "      <td>road town</td>\n",
       "      <td>18.42</td>\n",
       "      <td>-64.62</td>\n",
       "      <td>81.34</td>\n",
       "      <td>84</td>\n",
       "      <td>1013</td>\n",
       "      <td>1.01</td>\n",
       "      <td>3</td>\n",
       "    </tr>\n",
       "  </tbody>\n",
       "</table>\n",
       "</div>"
      ],
      "text/plain": [
       "        cities  latitude  longitude  temperature  humidity  pressure  \\\n",
       "0    sept-iles     50.20     -66.38        63.09        93      1011   \n",
       "1         tezu     27.92      96.17        76.14        87      1008   \n",
       "2  yellowknife     62.46    -114.35        72.00        43      1010   \n",
       "3       narsaq     60.92     -46.05        50.00        61      1016   \n",
       "4    road town     18.42     -64.62        81.34        84      1013   \n",
       "\n",
       "   wind_speed  cloudiness  \n",
       "0        2.24          20  \n",
       "1        2.30         100  \n",
       "2       10.29          40  \n",
       "3        5.82          74  \n",
       "4        1.01           3  "
      ]
     },
     "execution_count": 41,
     "metadata": {},
     "output_type": "execute_result"
    }
   ],
   "source": [
    "northernHemi_mask = df.latitude >= 0\n",
    "df_north = df.loc[northernHemi_mask].reset_index(drop=True)\n",
    "\n",
    "df_north.head()"
   ]
  },
  {
   "cell_type": "code",
   "execution_count": 42,
   "metadata": {},
   "outputs": [
    {
     "data": {
      "text/html": [
       "<div>\n",
       "<style scoped>\n",
       "    .dataframe tbody tr th:only-of-type {\n",
       "        vertical-align: middle;\n",
       "    }\n",
       "\n",
       "    .dataframe tbody tr th {\n",
       "        vertical-align: top;\n",
       "    }\n",
       "\n",
       "    .dataframe thead th {\n",
       "        text-align: right;\n",
       "    }\n",
       "</style>\n",
       "<table border=\"1\" class=\"dataframe\">\n",
       "  <thead>\n",
       "    <tr style=\"text-align: right;\">\n",
       "      <th></th>\n",
       "      <th>cities</th>\n",
       "      <th>latitude</th>\n",
       "      <th>longitude</th>\n",
       "      <th>temperature</th>\n",
       "      <th>humidity</th>\n",
       "      <th>pressure</th>\n",
       "      <th>wind_speed</th>\n",
       "      <th>cloudiness</th>\n",
       "    </tr>\n",
       "  </thead>\n",
       "  <tbody>\n",
       "    <tr>\n",
       "      <td>0</td>\n",
       "      <td>busselton</td>\n",
       "      <td>-33.65</td>\n",
       "      <td>115.33</td>\n",
       "      <td>55.27</td>\n",
       "      <td>87</td>\n",
       "      <td>1028</td>\n",
       "      <td>2.35</td>\n",
       "      <td>100</td>\n",
       "    </tr>\n",
       "    <tr>\n",
       "      <td>1</td>\n",
       "      <td>avarua</td>\n",
       "      <td>-21.21</td>\n",
       "      <td>-159.78</td>\n",
       "      <td>73.40</td>\n",
       "      <td>78</td>\n",
       "      <td>1015</td>\n",
       "      <td>14.99</td>\n",
       "      <td>79</td>\n",
       "    </tr>\n",
       "    <tr>\n",
       "      <td>2</td>\n",
       "      <td>poum</td>\n",
       "      <td>-20.23</td>\n",
       "      <td>164.02</td>\n",
       "      <td>71.56</td>\n",
       "      <td>63</td>\n",
       "      <td>1012</td>\n",
       "      <td>13.96</td>\n",
       "      <td>3</td>\n",
       "    </tr>\n",
       "    <tr>\n",
       "      <td>3</td>\n",
       "      <td>luderitz</td>\n",
       "      <td>-26.65</td>\n",
       "      <td>15.16</td>\n",
       "      <td>62.60</td>\n",
       "      <td>29</td>\n",
       "      <td>1018</td>\n",
       "      <td>1.12</td>\n",
       "      <td>0</td>\n",
       "    </tr>\n",
       "    <tr>\n",
       "      <td>4</td>\n",
       "      <td>chake chake</td>\n",
       "      <td>-5.25</td>\n",
       "      <td>39.77</td>\n",
       "      <td>76.28</td>\n",
       "      <td>67</td>\n",
       "      <td>1016</td>\n",
       "      <td>14.54</td>\n",
       "      <td>9</td>\n",
       "    </tr>\n",
       "  </tbody>\n",
       "</table>\n",
       "</div>"
      ],
      "text/plain": [
       "        cities  latitude  longitude  temperature  humidity  pressure  \\\n",
       "0    busselton    -33.65     115.33        55.27        87      1028   \n",
       "1       avarua    -21.21    -159.78        73.40        78      1015   \n",
       "2         poum    -20.23     164.02        71.56        63      1012   \n",
       "3     luderitz    -26.65      15.16        62.60        29      1018   \n",
       "4  chake chake     -5.25      39.77        76.28        67      1016   \n",
       "\n",
       "   wind_speed  cloudiness  \n",
       "0        2.35         100  \n",
       "1       14.99          79  \n",
       "2       13.96           3  \n",
       "3        1.12           0  \n",
       "4       14.54           9  "
      ]
     },
     "execution_count": 42,
     "metadata": {},
     "output_type": "execute_result"
    }
   ],
   "source": [
    "southernHemi_mask = df.latitude < 0\n",
    "df_south = df.loc[southernHemi_mask].reset_index(drop=True)\n",
    "\n",
    "df_south.head()"
   ]
  },
  {
   "cell_type": "code",
   "execution_count": 43,
   "metadata": {},
   "outputs": [],
   "source": [
    " import seaborn as sn"
   ]
  },
  {
   "cell_type": "code",
   "execution_count": 45,
   "metadata": {},
   "outputs": [
    {
     "data": {
      "text/html": [
       "<div>\n",
       "<style scoped>\n",
       "    .dataframe tbody tr th:only-of-type {\n",
       "        vertical-align: middle;\n",
       "    }\n",
       "\n",
       "    .dataframe tbody tr th {\n",
       "        vertical-align: top;\n",
       "    }\n",
       "\n",
       "    .dataframe thead th {\n",
       "        text-align: right;\n",
       "    }\n",
       "</style>\n",
       "<table border=\"1\" class=\"dataframe\">\n",
       "  <thead>\n",
       "    <tr style=\"text-align: right;\">\n",
       "      <th></th>\n",
       "      <th>latitude</th>\n",
       "      <th>longitude</th>\n",
       "      <th>temperature</th>\n",
       "      <th>humidity</th>\n",
       "      <th>pressure</th>\n",
       "      <th>wind_speed</th>\n",
       "      <th>cloudiness</th>\n",
       "    </tr>\n",
       "  </thead>\n",
       "  <tbody>\n",
       "    <tr>\n",
       "      <td>latitude</td>\n",
       "      <td>1.000000</td>\n",
       "      <td>0.005133</td>\n",
       "      <td>-0.697503</td>\n",
       "      <td>-0.018632</td>\n",
       "      <td>0.029589</td>\n",
       "      <td>-0.059016</td>\n",
       "      <td>-0.008363</td>\n",
       "    </tr>\n",
       "    <tr>\n",
       "      <td>longitude</td>\n",
       "      <td>0.005133</td>\n",
       "      <td>1.000000</td>\n",
       "      <td>0.075412</td>\n",
       "      <td>-0.060472</td>\n",
       "      <td>-0.142319</td>\n",
       "      <td>-0.040676</td>\n",
       "      <td>0.240320</td>\n",
       "    </tr>\n",
       "    <tr>\n",
       "      <td>temperature</td>\n",
       "      <td>-0.697503</td>\n",
       "      <td>0.075412</td>\n",
       "      <td>1.000000</td>\n",
       "      <td>-0.382167</td>\n",
       "      <td>-0.070136</td>\n",
       "      <td>0.076228</td>\n",
       "      <td>-0.146322</td>\n",
       "    </tr>\n",
       "    <tr>\n",
       "      <td>humidity</td>\n",
       "      <td>-0.018632</td>\n",
       "      <td>-0.060472</td>\n",
       "      <td>-0.382167</td>\n",
       "      <td>1.000000</td>\n",
       "      <td>0.002330</td>\n",
       "      <td>-0.139273</td>\n",
       "      <td>0.250676</td>\n",
       "    </tr>\n",
       "    <tr>\n",
       "      <td>pressure</td>\n",
       "      <td>0.029589</td>\n",
       "      <td>-0.142319</td>\n",
       "      <td>-0.070136</td>\n",
       "      <td>0.002330</td>\n",
       "      <td>1.000000</td>\n",
       "      <td>-0.027457</td>\n",
       "      <td>-0.141962</td>\n",
       "    </tr>\n",
       "    <tr>\n",
       "      <td>wind_speed</td>\n",
       "      <td>-0.059016</td>\n",
       "      <td>-0.040676</td>\n",
       "      <td>0.076228</td>\n",
       "      <td>-0.139273</td>\n",
       "      <td>-0.027457</td>\n",
       "      <td>1.000000</td>\n",
       "      <td>0.108274</td>\n",
       "    </tr>\n",
       "    <tr>\n",
       "      <td>cloudiness</td>\n",
       "      <td>-0.008363</td>\n",
       "      <td>0.240320</td>\n",
       "      <td>-0.146322</td>\n",
       "      <td>0.250676</td>\n",
       "      <td>-0.141962</td>\n",
       "      <td>0.108274</td>\n",
       "      <td>1.000000</td>\n",
       "    </tr>\n",
       "  </tbody>\n",
       "</table>\n",
       "</div>"
      ],
      "text/plain": [
       "             latitude  longitude  temperature  humidity  pressure  wind_speed  \\\n",
       "latitude     1.000000   0.005133    -0.697503 -0.018632  0.029589   -0.059016   \n",
       "longitude    0.005133   1.000000     0.075412 -0.060472 -0.142319   -0.040676   \n",
       "temperature -0.697503   0.075412     1.000000 -0.382167 -0.070136    0.076228   \n",
       "humidity    -0.018632  -0.060472    -0.382167  1.000000  0.002330   -0.139273   \n",
       "pressure     0.029589  -0.142319    -0.070136  0.002330  1.000000   -0.027457   \n",
       "wind_speed  -0.059016  -0.040676     0.076228 -0.139273 -0.027457    1.000000   \n",
       "cloudiness  -0.008363   0.240320    -0.146322  0.250676 -0.141962    0.108274   \n",
       "\n",
       "             cloudiness  \n",
       "latitude      -0.008363  \n",
       "longitude      0.240320  \n",
       "temperature   -0.146322  \n",
       "humidity       0.250676  \n",
       "pressure      -0.141962  \n",
       "wind_speed     0.108274  \n",
       "cloudiness     1.000000  "
      ]
     },
     "execution_count": 45,
     "metadata": {},
     "output_type": "execute_result"
    }
   ],
   "source": [
    "north_corrs = df_north.corr()\n",
    "north_corrs"
   ]
  },
  {
   "cell_type": "code",
   "execution_count": 46,
   "metadata": {},
   "outputs": [
    {
     "data": {
      "text/html": [
       "<div>\n",
       "<style scoped>\n",
       "    .dataframe tbody tr th:only-of-type {\n",
       "        vertical-align: middle;\n",
       "    }\n",
       "\n",
       "    .dataframe tbody tr th {\n",
       "        vertical-align: top;\n",
       "    }\n",
       "\n",
       "    .dataframe thead th {\n",
       "        text-align: right;\n",
       "    }\n",
       "</style>\n",
       "<table border=\"1\" class=\"dataframe\">\n",
       "  <thead>\n",
       "    <tr style=\"text-align: right;\">\n",
       "      <th></th>\n",
       "      <th>latitude</th>\n",
       "      <th>longitude</th>\n",
       "      <th>temperature</th>\n",
       "      <th>humidity</th>\n",
       "      <th>pressure</th>\n",
       "      <th>wind_speed</th>\n",
       "      <th>cloudiness</th>\n",
       "    </tr>\n",
       "  </thead>\n",
       "  <tbody>\n",
       "    <tr>\n",
       "      <td>latitude</td>\n",
       "      <td>1.000000</td>\n",
       "      <td>-0.022988</td>\n",
       "      <td>0.722999</td>\n",
       "      <td>0.040095</td>\n",
       "      <td>-0.206399</td>\n",
       "      <td>-0.017651</td>\n",
       "      <td>-0.040616</td>\n",
       "    </tr>\n",
       "    <tr>\n",
       "      <td>longitude</td>\n",
       "      <td>-0.022988</td>\n",
       "      <td>1.000000</td>\n",
       "      <td>0.166554</td>\n",
       "      <td>-0.360412</td>\n",
       "      <td>-0.070377</td>\n",
       "      <td>-0.117548</td>\n",
       "      <td>-0.114254</td>\n",
       "    </tr>\n",
       "    <tr>\n",
       "      <td>temperature</td>\n",
       "      <td>0.722999</td>\n",
       "      <td>0.166554</td>\n",
       "      <td>1.000000</td>\n",
       "      <td>-0.149965</td>\n",
       "      <td>-0.487913</td>\n",
       "      <td>0.108800</td>\n",
       "      <td>0.065576</td>\n",
       "    </tr>\n",
       "    <tr>\n",
       "      <td>humidity</td>\n",
       "      <td>0.040095</td>\n",
       "      <td>-0.360412</td>\n",
       "      <td>-0.149965</td>\n",
       "      <td>1.000000</td>\n",
       "      <td>0.021062</td>\n",
       "      <td>0.036571</td>\n",
       "      <td>0.271736</td>\n",
       "    </tr>\n",
       "    <tr>\n",
       "      <td>pressure</td>\n",
       "      <td>-0.206399</td>\n",
       "      <td>-0.070377</td>\n",
       "      <td>-0.487913</td>\n",
       "      <td>0.021062</td>\n",
       "      <td>1.000000</td>\n",
       "      <td>-0.045584</td>\n",
       "      <td>-0.270365</td>\n",
       "    </tr>\n",
       "    <tr>\n",
       "      <td>wind_speed</td>\n",
       "      <td>-0.017651</td>\n",
       "      <td>-0.117548</td>\n",
       "      <td>0.108800</td>\n",
       "      <td>0.036571</td>\n",
       "      <td>-0.045584</td>\n",
       "      <td>1.000000</td>\n",
       "      <td>0.199745</td>\n",
       "    </tr>\n",
       "    <tr>\n",
       "      <td>cloudiness</td>\n",
       "      <td>-0.040616</td>\n",
       "      <td>-0.114254</td>\n",
       "      <td>0.065576</td>\n",
       "      <td>0.271736</td>\n",
       "      <td>-0.270365</td>\n",
       "      <td>0.199745</td>\n",
       "      <td>1.000000</td>\n",
       "    </tr>\n",
       "  </tbody>\n",
       "</table>\n",
       "</div>"
      ],
      "text/plain": [
       "             latitude  longitude  temperature  humidity  pressure  wind_speed  \\\n",
       "latitude     1.000000  -0.022988     0.722999  0.040095 -0.206399   -0.017651   \n",
       "longitude   -0.022988   1.000000     0.166554 -0.360412 -0.070377   -0.117548   \n",
       "temperature  0.722999   0.166554     1.000000 -0.149965 -0.487913    0.108800   \n",
       "humidity     0.040095  -0.360412    -0.149965  1.000000  0.021062    0.036571   \n",
       "pressure    -0.206399  -0.070377    -0.487913  0.021062  1.000000   -0.045584   \n",
       "wind_speed  -0.017651  -0.117548     0.108800  0.036571 -0.045584    1.000000   \n",
       "cloudiness  -0.040616  -0.114254     0.065576  0.271736 -0.270365    0.199745   \n",
       "\n",
       "             cloudiness  \n",
       "latitude      -0.040616  \n",
       "longitude     -0.114254  \n",
       "temperature    0.065576  \n",
       "humidity       0.271736  \n",
       "pressure      -0.270365  \n",
       "wind_speed     0.199745  \n",
       "cloudiness     1.000000  "
      ]
     },
     "execution_count": 46,
     "metadata": {},
     "output_type": "execute_result"
    }
   ],
   "source": [
    "south_corrs = df_south.corr()\n",
    "south_corrs"
   ]
  }
 ],
 "metadata": {
  "kernelspec": {
   "display_name": "Python 3",
   "language": "python",
   "name": "python3"
  },
  "language_info": {
   "codemirror_mode": {
    "name": "ipython",
    "version": 3
   },
   "file_extension": ".py",
   "mimetype": "text/x-python",
   "name": "python",
   "nbconvert_exporter": "python",
   "pygments_lexer": "ipython3",
   "version": "3.7.4"
  }
 },
 "nbformat": 4,
 "nbformat_minor": 2
}
